{
 "cells": [
  {
   "cell_type": "markdown",
   "metadata": {},
   "source": [
    "# Predicting coronavirus cases in New York State\n",
    "\n",
    "Data from: https://github.com/nytimes/covid-19-data"
   ]
  },
  {
   "cell_type": "code",
   "execution_count": 1,
   "metadata": {},
   "outputs": [],
   "source": [
    "import numpy as np\n",
    "np.set_printoptions(threshold=np.inf)\n",
    "\n",
    "import pandas as pd\n",
    "pd.plotting.register_matplotlib_converters()\n",
    "import matplotlib.pyplot as plt\n",
    "%matplotlib inline\n",
    "import seaborn as sns\n",
    "\n",
    "from math import sqrt"
   ]
  },
  {
   "cell_type": "markdown",
   "metadata": {},
   "source": [
    "## Load csv data"
   ]
  },
  {
   "cell_type": "code",
   "execution_count": 2,
   "metadata": {},
   "outputs": [
    {
     "data": {
      "text/html": [
       "<div>\n",
       "<style scoped>\n",
       "    .dataframe tbody tr th:only-of-type {\n",
       "        vertical-align: middle;\n",
       "    }\n",
       "\n",
       "    .dataframe tbody tr th {\n",
       "        vertical-align: top;\n",
       "    }\n",
       "\n",
       "    .dataframe thead th {\n",
       "        text-align: right;\n",
       "    }\n",
       "</style>\n",
       "<table border=\"1\" class=\"dataframe\">\n",
       "  <thead>\n",
       "    <tr style=\"text-align: right;\">\n",
       "      <th></th>\n",
       "      <th>date</th>\n",
       "      <th>state</th>\n",
       "      <th>fips</th>\n",
       "      <th>cases</th>\n",
       "      <th>deaths</th>\n",
       "    </tr>\n",
       "  </thead>\n",
       "  <tbody>\n",
       "    <tr>\n",
       "      <th>0</th>\n",
       "      <td>2020-01-21</td>\n",
       "      <td>Washington</td>\n",
       "      <td>53</td>\n",
       "      <td>1</td>\n",
       "      <td>0</td>\n",
       "    </tr>\n",
       "    <tr>\n",
       "      <th>1</th>\n",
       "      <td>2020-01-22</td>\n",
       "      <td>Washington</td>\n",
       "      <td>53</td>\n",
       "      <td>1</td>\n",
       "      <td>0</td>\n",
       "    </tr>\n",
       "    <tr>\n",
       "      <th>2</th>\n",
       "      <td>2020-01-23</td>\n",
       "      <td>Washington</td>\n",
       "      <td>53</td>\n",
       "      <td>1</td>\n",
       "      <td>0</td>\n",
       "    </tr>\n",
       "    <tr>\n",
       "      <th>3</th>\n",
       "      <td>2020-01-24</td>\n",
       "      <td>Illinois</td>\n",
       "      <td>17</td>\n",
       "      <td>1</td>\n",
       "      <td>0</td>\n",
       "    </tr>\n",
       "    <tr>\n",
       "      <th>4</th>\n",
       "      <td>2020-01-24</td>\n",
       "      <td>Washington</td>\n",
       "      <td>53</td>\n",
       "      <td>1</td>\n",
       "      <td>0</td>\n",
       "    </tr>\n",
       "    <tr>\n",
       "      <th>5</th>\n",
       "      <td>2020-01-25</td>\n",
       "      <td>California</td>\n",
       "      <td>6</td>\n",
       "      <td>1</td>\n",
       "      <td>0</td>\n",
       "    </tr>\n",
       "    <tr>\n",
       "      <th>6</th>\n",
       "      <td>2020-01-25</td>\n",
       "      <td>Illinois</td>\n",
       "      <td>17</td>\n",
       "      <td>1</td>\n",
       "      <td>0</td>\n",
       "    </tr>\n",
       "    <tr>\n",
       "      <th>7</th>\n",
       "      <td>2020-01-25</td>\n",
       "      <td>Washington</td>\n",
       "      <td>53</td>\n",
       "      <td>1</td>\n",
       "      <td>0</td>\n",
       "    </tr>\n",
       "    <tr>\n",
       "      <th>8</th>\n",
       "      <td>2020-01-26</td>\n",
       "      <td>Arizona</td>\n",
       "      <td>4</td>\n",
       "      <td>1</td>\n",
       "      <td>0</td>\n",
       "    </tr>\n",
       "    <tr>\n",
       "      <th>9</th>\n",
       "      <td>2020-01-26</td>\n",
       "      <td>California</td>\n",
       "      <td>6</td>\n",
       "      <td>2</td>\n",
       "      <td>0</td>\n",
       "    </tr>\n",
       "  </tbody>\n",
       "</table>\n",
       "</div>"
      ],
      "text/plain": [
       "         date       state  fips  cases  deaths\n",
       "0  2020-01-21  Washington    53      1       0\n",
       "1  2020-01-22  Washington    53      1       0\n",
       "2  2020-01-23  Washington    53      1       0\n",
       "3  2020-01-24    Illinois    17      1       0\n",
       "4  2020-01-24  Washington    53      1       0\n",
       "5  2020-01-25  California     6      1       0\n",
       "6  2020-01-25    Illinois    17      1       0\n",
       "7  2020-01-25  Washington    53      1       0\n",
       "8  2020-01-26     Arizona     4      1       0\n",
       "9  2020-01-26  California     6      2       0"
      ]
     },
     "execution_count": 2,
     "metadata": {},
     "output_type": "execute_result"
    }
   ],
   "source": [
    "df = pd.read_csv('./covid-cases-us-states.csv')\n",
    "df.head(10)"
   ]
  },
  {
   "cell_type": "code",
   "execution_count": 3,
   "metadata": {},
   "outputs": [
    {
     "data": {
      "text/plain": [
       "<matplotlib.axes._subplots.AxesSubplot at 0x7fd0599f8dd8>"
      ]
     },
     "execution_count": 3,
     "metadata": {},
     "output_type": "execute_result"
    },
    {
     "data": {
      "image/png": "[encoded data removed]",
      "text/plain": [
       "<Figure size 1152x720 with 1 Axes>"
      ]
     },
     "metadata": {
      "needs_background": "light"
     },
     "output_type": "display_data"
    }
   ],
   "source": [
    "import seaborn as sns\n",
    "\n",
    "plt.figure(figsize=(16, 10))\n",
    "sns.lineplot(data=df, x='date', y='cases', hue='state')"
   ]
  },
  {
   "cell_type": "markdown",
   "metadata": {},
   "source": [
    "## Extract one part of data for training"
   ]
  },
  {
   "cell_type": "code",
   "execution_count": 4,
   "metadata": {
    "scrolled": true
   },
   "outputs": [
    {
     "data": {
      "text/html": [
       "<div>\n",
       "<style scoped>\n",
       "    .dataframe tbody tr th:only-of-type {\n",
       "        vertical-align: middle;\n",
       "    }\n",
       "\n",
       "    .dataframe tbody tr th {\n",
       "        vertical-align: top;\n",
       "    }\n",
       "\n",
       "    .dataframe thead th {\n",
       "        text-align: right;\n",
       "    }\n",
       "</style>\n",
       "<table border=\"1\" class=\"dataframe\">\n",
       "  <thead>\n",
       "    <tr style=\"text-align: right;\">\n",
       "      <th></th>\n",
       "      <th>date</th>\n",
       "      <th>state</th>\n",
       "      <th>fips</th>\n",
       "      <th>cases</th>\n",
       "      <th>deaths</th>\n",
       "    </tr>\n",
       "  </thead>\n",
       "  <tbody>\n",
       "    <tr>\n",
       "      <th>246</th>\n",
       "      <td>2020-03-01</td>\n",
       "      <td>New York</td>\n",
       "      <td>36</td>\n",
       "      <td>1</td>\n",
       "      <td>0</td>\n",
       "    </tr>\n",
       "    <tr>\n",
       "      <th>261</th>\n",
       "      <td>2020-03-02</td>\n",
       "      <td>New York</td>\n",
       "      <td>36</td>\n",
       "      <td>1</td>\n",
       "      <td>0</td>\n",
       "    </tr>\n",
       "    <tr>\n",
       "      <th>276</th>\n",
       "      <td>2020-03-03</td>\n",
       "      <td>New York</td>\n",
       "      <td>36</td>\n",
       "      <td>2</td>\n",
       "      <td>0</td>\n",
       "    </tr>\n",
       "    <tr>\n",
       "      <th>293</th>\n",
       "      <td>2020-03-04</td>\n",
       "      <td>New York</td>\n",
       "      <td>36</td>\n",
       "      <td>11</td>\n",
       "      <td>0</td>\n",
       "    </tr>\n",
       "    <tr>\n",
       "      <th>313</th>\n",
       "      <td>2020-03-05</td>\n",
       "      <td>New York</td>\n",
       "      <td>36</td>\n",
       "      <td>22</td>\n",
       "      <td>0</td>\n",
       "    </tr>\n",
       "    <tr>\n",
       "      <th>338</th>\n",
       "      <td>2020-03-06</td>\n",
       "      <td>New York</td>\n",
       "      <td>36</td>\n",
       "      <td>44</td>\n",
       "      <td>0</td>\n",
       "    </tr>\n",
       "    <tr>\n",
       "      <th>369</th>\n",
       "      <td>2020-03-07</td>\n",
       "      <td>New York</td>\n",
       "      <td>36</td>\n",
       "      <td>89</td>\n",
       "      <td>0</td>\n",
       "    </tr>\n",
       "    <tr>\n",
       "      <th>404</th>\n",
       "      <td>2020-03-08</td>\n",
       "      <td>New York</td>\n",
       "      <td>36</td>\n",
       "      <td>106</td>\n",
       "      <td>0</td>\n",
       "    </tr>\n",
       "    <tr>\n",
       "      <th>440</th>\n",
       "      <td>2020-03-09</td>\n",
       "      <td>New York</td>\n",
       "      <td>36</td>\n",
       "      <td>142</td>\n",
       "      <td>0</td>\n",
       "    </tr>\n",
       "    <tr>\n",
       "      <th>478</th>\n",
       "      <td>2020-03-10</td>\n",
       "      <td>New York</td>\n",
       "      <td>36</td>\n",
       "      <td>173</td>\n",
       "      <td>0</td>\n",
       "    </tr>\n",
       "    <tr>\n",
       "      <th>521</th>\n",
       "      <td>2020-03-11</td>\n",
       "      <td>New York</td>\n",
       "      <td>36</td>\n",
       "      <td>217</td>\n",
       "      <td>0</td>\n",
       "    </tr>\n",
       "    <tr>\n",
       "      <th>568</th>\n",
       "      <td>2020-03-12</td>\n",
       "      <td>New York</td>\n",
       "      <td>36</td>\n",
       "      <td>326</td>\n",
       "      <td>0</td>\n",
       "    </tr>\n",
       "    <tr>\n",
       "      <th>618</th>\n",
       "      <td>2020-03-13</td>\n",
       "      <td>New York</td>\n",
       "      <td>36</td>\n",
       "      <td>421</td>\n",
       "      <td>0</td>\n",
       "    </tr>\n",
       "    <tr>\n",
       "      <th>669</th>\n",
       "      <td>2020-03-14</td>\n",
       "      <td>New York</td>\n",
       "      <td>36</td>\n",
       "      <td>610</td>\n",
       "      <td>2</td>\n",
       "    </tr>\n",
       "    <tr>\n",
       "      <th>722</th>\n",
       "      <td>2020-03-15</td>\n",
       "      <td>New York</td>\n",
       "      <td>36</td>\n",
       "      <td>732</td>\n",
       "      <td>6</td>\n",
       "    </tr>\n",
       "    <tr>\n",
       "      <th>775</th>\n",
       "      <td>2020-03-16</td>\n",
       "      <td>New York</td>\n",
       "      <td>36</td>\n",
       "      <td>950</td>\n",
       "      <td>10</td>\n",
       "    </tr>\n",
       "    <tr>\n",
       "      <th>828</th>\n",
       "      <td>2020-03-17</td>\n",
       "      <td>New York</td>\n",
       "      <td>36</td>\n",
       "      <td>1374</td>\n",
       "      <td>17</td>\n",
       "    </tr>\n",
       "    <tr>\n",
       "      <th>882</th>\n",
       "      <td>2020-03-18</td>\n",
       "      <td>New York</td>\n",
       "      <td>36</td>\n",
       "      <td>2382</td>\n",
       "      <td>27</td>\n",
       "    </tr>\n",
       "    <tr>\n",
       "      <th>936</th>\n",
       "      <td>2020-03-19</td>\n",
       "      <td>New York</td>\n",
       "      <td>36</td>\n",
       "      <td>4152</td>\n",
       "      <td>30</td>\n",
       "    </tr>\n",
       "    <tr>\n",
       "      <th>990</th>\n",
       "      <td>2020-03-20</td>\n",
       "      <td>New York</td>\n",
       "      <td>36</td>\n",
       "      <td>7102</td>\n",
       "      <td>57</td>\n",
       "    </tr>\n",
       "    <tr>\n",
       "      <th>1044</th>\n",
       "      <td>2020-03-21</td>\n",
       "      <td>New York</td>\n",
       "      <td>36</td>\n",
       "      <td>10356</td>\n",
       "      <td>80</td>\n",
       "    </tr>\n",
       "    <tr>\n",
       "      <th>1098</th>\n",
       "      <td>2020-03-22</td>\n",
       "      <td>New York</td>\n",
       "      <td>36</td>\n",
       "      <td>15168</td>\n",
       "      <td>122</td>\n",
       "    </tr>\n",
       "    <tr>\n",
       "      <th>1152</th>\n",
       "      <td>2020-03-23</td>\n",
       "      <td>New York</td>\n",
       "      <td>36</td>\n",
       "      <td>20875</td>\n",
       "      <td>159</td>\n",
       "    </tr>\n",
       "    <tr>\n",
       "      <th>1206</th>\n",
       "      <td>2020-03-24</td>\n",
       "      <td>New York</td>\n",
       "      <td>36</td>\n",
       "      <td>25665</td>\n",
       "      <td>218</td>\n",
       "    </tr>\n",
       "    <tr>\n",
       "      <th>1260</th>\n",
       "      <td>2020-03-25</td>\n",
       "      <td>New York</td>\n",
       "      <td>36</td>\n",
       "      <td>33066</td>\n",
       "      <td>325</td>\n",
       "    </tr>\n",
       "    <tr>\n",
       "      <th>1314</th>\n",
       "      <td>2020-03-26</td>\n",
       "      <td>New York</td>\n",
       "      <td>36</td>\n",
       "      <td>38987</td>\n",
       "      <td>432</td>\n",
       "    </tr>\n",
       "    <tr>\n",
       "      <th>1368</th>\n",
       "      <td>2020-03-27</td>\n",
       "      <td>New York</td>\n",
       "      <td>36</td>\n",
       "      <td>44635</td>\n",
       "      <td>535</td>\n",
       "    </tr>\n",
       "    <tr>\n",
       "      <th>1422</th>\n",
       "      <td>2020-03-28</td>\n",
       "      <td>New York</td>\n",
       "      <td>36</td>\n",
       "      <td>53363</td>\n",
       "      <td>782</td>\n",
       "    </tr>\n",
       "    <tr>\n",
       "      <th>1477</th>\n",
       "      <td>2020-03-29</td>\n",
       "      <td>New York</td>\n",
       "      <td>36</td>\n",
       "      <td>59568</td>\n",
       "      <td>965</td>\n",
       "    </tr>\n",
       "    <tr>\n",
       "      <th>1532</th>\n",
       "      <td>2020-03-30</td>\n",
       "      <td>New York</td>\n",
       "      <td>36</td>\n",
       "      <td>67174</td>\n",
       "      <td>1224</td>\n",
       "    </tr>\n",
       "    <tr>\n",
       "      <th>1587</th>\n",
       "      <td>2020-03-31</td>\n",
       "      <td>New York</td>\n",
       "      <td>36</td>\n",
       "      <td>75832</td>\n",
       "      <td>1550</td>\n",
       "    </tr>\n",
       "    <tr>\n",
       "      <th>1642</th>\n",
       "      <td>2020-04-01</td>\n",
       "      <td>New York</td>\n",
       "      <td>36</td>\n",
       "      <td>83889</td>\n",
       "      <td>1941</td>\n",
       "    </tr>\n",
       "    <tr>\n",
       "      <th>1697</th>\n",
       "      <td>2020-04-02</td>\n",
       "      <td>New York</td>\n",
       "      <td>36</td>\n",
       "      <td>92770</td>\n",
       "      <td>2653</td>\n",
       "    </tr>\n",
       "    <tr>\n",
       "      <th>1752</th>\n",
       "      <td>2020-04-03</td>\n",
       "      <td>New York</td>\n",
       "      <td>36</td>\n",
       "      <td>102870</td>\n",
       "      <td>2935</td>\n",
       "    </tr>\n",
       "    <tr>\n",
       "      <th>1807</th>\n",
       "      <td>2020-04-04</td>\n",
       "      <td>New York</td>\n",
       "      <td>36</td>\n",
       "      <td>114996</td>\n",
       "      <td>3568</td>\n",
       "    </tr>\n",
       "    <tr>\n",
       "      <th>1862</th>\n",
       "      <td>2020-04-05</td>\n",
       "      <td>New York</td>\n",
       "      <td>36</td>\n",
       "      <td>122911</td>\n",
       "      <td>4161</td>\n",
       "    </tr>\n",
       "    <tr>\n",
       "      <th>1917</th>\n",
       "      <td>2020-04-06</td>\n",
       "      <td>New York</td>\n",
       "      <td>36</td>\n",
       "      <td>130703</td>\n",
       "      <td>4758</td>\n",
       "    </tr>\n",
       "    <tr>\n",
       "      <th>1972</th>\n",
       "      <td>2020-04-07</td>\n",
       "      <td>New York</td>\n",
       "      <td>36</td>\n",
       "      <td>140081</td>\n",
       "      <td>5563</td>\n",
       "    </tr>\n",
       "    <tr>\n",
       "      <th>2027</th>\n",
       "      <td>2020-04-08</td>\n",
       "      <td>New York</td>\n",
       "      <td>36</td>\n",
       "      <td>149401</td>\n",
       "      <td>6268</td>\n",
       "    </tr>\n",
       "    <tr>\n",
       "      <th>2083</th>\n",
       "      <td>2020-04-09</td>\n",
       "      <td>New York</td>\n",
       "      <td>36</td>\n",
       "      <td>159937</td>\n",
       "      <td>7067</td>\n",
       "    </tr>\n",
       "    <tr>\n",
       "      <th>2139</th>\n",
       "      <td>2020-04-10</td>\n",
       "      <td>New York</td>\n",
       "      <td>36</td>\n",
       "      <td>170512</td>\n",
       "      <td>7844</td>\n",
       "    </tr>\n",
       "    <tr>\n",
       "      <th>2195</th>\n",
       "      <td>2020-04-11</td>\n",
       "      <td>New York</td>\n",
       "      <td>36</td>\n",
       "      <td>180458</td>\n",
       "      <td>8627</td>\n",
       "    </tr>\n",
       "    <tr>\n",
       "      <th>2251</th>\n",
       "      <td>2020-04-12</td>\n",
       "      <td>New York</td>\n",
       "      <td>36</td>\n",
       "      <td>188694</td>\n",
       "      <td>9385</td>\n",
       "    </tr>\n",
       "    <tr>\n",
       "      <th>2307</th>\n",
       "      <td>2020-04-13</td>\n",
       "      <td>New York</td>\n",
       "      <td>36</td>\n",
       "      <td>195031</td>\n",
       "      <td>10056</td>\n",
       "    </tr>\n",
       "    <tr>\n",
       "      <th>2363</th>\n",
       "      <td>2020-04-14</td>\n",
       "      <td>New York</td>\n",
       "      <td>36</td>\n",
       "      <td>202208</td>\n",
       "      <td>10834</td>\n",
       "    </tr>\n",
       "    <tr>\n",
       "      <th>2419</th>\n",
       "      <td>2020-04-15</td>\n",
       "      <td>New York</td>\n",
       "      <td>36</td>\n",
       "      <td>213779</td>\n",
       "      <td>11586</td>\n",
       "    </tr>\n",
       "    <tr>\n",
       "      <th>2475</th>\n",
       "      <td>2020-04-16</td>\n",
       "      <td>New York</td>\n",
       "      <td>36</td>\n",
       "      <td>222284</td>\n",
       "      <td>12192</td>\n",
       "    </tr>\n",
       "    <tr>\n",
       "      <th>2531</th>\n",
       "      <td>2020-04-17</td>\n",
       "      <td>New York</td>\n",
       "      <td>36</td>\n",
       "      <td>229642</td>\n",
       "      <td>12822</td>\n",
       "    </tr>\n",
       "    <tr>\n",
       "      <th>2587</th>\n",
       "      <td>2020-04-18</td>\n",
       "      <td>New York</td>\n",
       "      <td>36</td>\n",
       "      <td>236763</td>\n",
       "      <td>13362</td>\n",
       "    </tr>\n",
       "    <tr>\n",
       "      <th>2643</th>\n",
       "      <td>2020-04-19</td>\n",
       "      <td>New York</td>\n",
       "      <td>36</td>\n",
       "      <td>242817</td>\n",
       "      <td>13869</td>\n",
       "    </tr>\n",
       "    <tr>\n",
       "      <th>2699</th>\n",
       "      <td>2020-04-20</td>\n",
       "      <td>New York</td>\n",
       "      <td>36</td>\n",
       "      <td>247543</td>\n",
       "      <td>14347</td>\n",
       "    </tr>\n",
       "    <tr>\n",
       "      <th>2755</th>\n",
       "      <td>2020-04-21</td>\n",
       "      <td>New York</td>\n",
       "      <td>36</td>\n",
       "      <td>251720</td>\n",
       "      <td>14828</td>\n",
       "    </tr>\n",
       "    <tr>\n",
       "      <th>2811</th>\n",
       "      <td>2020-04-22</td>\n",
       "      <td>New York</td>\n",
       "      <td>36</td>\n",
       "      <td>257246</td>\n",
       "      <td>15302</td>\n",
       "    </tr>\n",
       "  </tbody>\n",
       "</table>\n",
       "</div>"
      ],
      "text/plain": [
       "            date     state  fips   cases  deaths\n",
       "246   2020-03-01  New York    36       1       0\n",
       "261   2020-03-02  New York    36       1       0\n",
       "276   2020-03-03  New York    36       2       0\n",
       "293   2020-03-04  New York    36      11       0\n",
       "313   2020-03-05  New York    36      22       0\n",
       "338   2020-03-06  New York    36      44       0\n",
       "369   2020-03-07  New York    36      89       0\n",
       "404   2020-03-08  New York    36     106       0\n",
       "440   2020-03-09  New York    36     142       0\n",
       "478   2020-03-10  New York    36     173       0\n",
       "521   2020-03-11  New York    36     217       0\n",
       "568   2020-03-12  New York    36     326       0\n",
       "618   2020-03-13  New York    36     421       0\n",
       "669   2020-03-14  New York    36     610       2\n",
       "722   2020-03-15  New York    36     732       6\n",
       "775   2020-03-16  New York    36     950      10\n",
       "828   2020-03-17  New York    36    1374      17\n",
       "882   2020-03-18  New York    36    2382      27\n",
       "936   2020-03-19  New York    36    4152      30\n",
       "990   2020-03-20  New York    36    7102      57\n",
       "1044  2020-03-21  New York    36   10356      80\n",
       "1098  2020-03-22  New York    36   15168     122\n",
       "1152  2020-03-23  New York    36   20875     159\n",
       "1206  2020-03-24  New York    36   25665     218\n",
       "1260  2020-03-25  New York    36   33066     325\n",
       "1314  2020-03-26  New York    36   38987     432\n",
       "1368  2020-03-27  New York    36   44635     535\n",
       "1422  2020-03-28  New York    36   53363     782\n",
       "1477  2020-03-29  New York    36   59568     965\n",
       "1532  2020-03-30  New York    36   67174    1224\n",
       "1587  2020-03-31  New York    36   75832    1550\n",
       "1642  2020-04-01  New York    36   83889    1941\n",
       "1697  2020-04-02  New York    36   92770    2653\n",
       "1752  2020-04-03  New York    36  102870    2935\n",
       "1807  2020-04-04  New York    36  114996    3568\n",
       "1862  2020-04-05  New York    36  122911    4161\n",
       "1917  2020-04-06  New York    36  130703    4758\n",
       "1972  2020-04-07  New York    36  140081    5563\n",
       "2027  2020-04-08  New York    36  149401    6268\n",
       "2083  2020-04-09  New York    36  159937    7067\n",
       "2139  2020-04-10  New York    36  170512    7844\n",
       "2195  2020-04-11  New York    36  180458    8627\n",
       "2251  2020-04-12  New York    36  188694    9385\n",
       "2307  2020-04-13  New York    36  195031   10056\n",
       "2363  2020-04-14  New York    36  202208   10834\n",
       "2419  2020-04-15  New York    36  213779   11586\n",
       "2475  2020-04-16  New York    36  222284   12192\n",
       "2531  2020-04-17  New York    36  229642   12822\n",
       "2587  2020-04-18  New York    36  236763   13362\n",
       "2643  2020-04-19  New York    36  242817   13869\n",
       "2699  2020-04-20  New York    36  247543   14347\n",
       "2755  2020-04-21  New York    36  251720   14828\n",
       "2811  2020-04-22  New York    36  257246   15302"
      ]
     },
     "execution_count": 4,
     "metadata": {},
     "output_type": "execute_result"
    }
   ],
   "source": [
    "nydf = df[df['state']=='New York']\n",
    "nydf"
   ]
  },
  {
   "cell_type": "code",
   "execution_count": 5,
   "metadata": {},
   "outputs": [
    {
     "data": {
      "text/plain": [
       "<matplotlib.axes._subplots.AxesSubplot at 0x7fd05723b320>"
      ]
     },
     "execution_count": 5,
     "metadata": {},
     "output_type": "execute_result"
    },
    {
     "data": {
      "image/png": "[encoded data removed]",
      "text/plain": [
       "<Figure size 432x288 with 1 Axes>"
      ]
     },
     "metadata": {
      "needs_background": "light"
     },
     "output_type": "display_data"
    }
   ],
   "source": [
    "nydf.plot(x='date', y='cases')"
   ]
  },
  {
   "cell_type": "code",
   "execution_count": 6,
   "metadata": {
    "scrolled": true
   },
   "outputs": [
    {
     "data": {
      "text/plain": [
       "[1,\n",
       " 1,\n",
       " 2,\n",
       " 11,\n",
       " 22,\n",
       " 44,\n",
       " 89,\n",
       " 106,\n",
       " 142,\n",
       " 173,\n",
       " 217,\n",
       " 326,\n",
       " 421,\n",
       " 610,\n",
       " 732,\n",
       " 950,\n",
       " 1374,\n",
       " 2382,\n",
       " 4152,\n",
       " 7102,\n",
       " 10356,\n",
       " 15168,\n",
       " 20875,\n",
       " 25665,\n",
       " 33066,\n",
       " 38987,\n",
       " 44635,\n",
       " 53363,\n",
       " 59568,\n",
       " 67174,\n",
       " 75832,\n",
       " 83889,\n",
       " 92770,\n",
       " 102870,\n",
       " 114996,\n",
       " 122911,\n",
       " 130703,\n",
       " 140081,\n",
       " 149401,\n",
       " 159937,\n",
       " 170512,\n",
       " 180458,\n",
       " 188694,\n",
       " 195031,\n",
       " 202208,\n",
       " 213779,\n",
       " 222284,\n",
       " 229642,\n",
       " 236763,\n",
       " 242817,\n",
       " 247543,\n",
       " 251720,\n",
       " 257246]"
      ]
     },
     "execution_count": 6,
     "metadata": {},
     "output_type": "execute_result"
    }
   ],
   "source": [
    "y = nydf['cases'].tolist()\n",
    "y"
   ]
  },
  {
   "cell_type": "code",
   "execution_count": 7,
   "metadata": {
    "scrolled": true
   },
   "outputs": [
    {
     "data": {
      "text/plain": [
       "[1,\n",
       " 2,\n",
       " 3,\n",
       " 4,\n",
       " 5,\n",
       " 6,\n",
       " 7,\n",
       " 8,\n",
       " 9,\n",
       " 10,\n",
       " 11,\n",
       " 12,\n",
       " 13,\n",
       " 14,\n",
       " 15,\n",
       " 16,\n",
       " 17,\n",
       " 18,\n",
       " 19,\n",
       " 20,\n",
       " 21,\n",
       " 22,\n",
       " 23,\n",
       " 24,\n",
       " 25,\n",
       " 26,\n",
       " 27,\n",
       " 28,\n",
       " 29,\n",
       " 30,\n",
       " 31,\n",
       " 32,\n",
       " 33,\n",
       " 34,\n",
       " 35,\n",
       " 36,\n",
       " 37,\n",
       " 38,\n",
       " 39,\n",
       " 40,\n",
       " 41,\n",
       " 42,\n",
       " 43,\n",
       " 44,\n",
       " 45,\n",
       " 46,\n",
       " 47,\n",
       " 48,\n",
       " 49,\n",
       " 50,\n",
       " 51,\n",
       " 52,\n",
       " 53]"
      ]
     },
     "execution_count": 7,
     "metadata": {},
     "output_type": "execute_result"
    }
   ],
   "source": [
    "x = list(range(1, len(y)+1))\n",
    "x"
   ]
  },
  {
   "cell_type": "code",
   "execution_count": 8,
   "metadata": {},
   "outputs": [
    {
     "data": {
      "text/plain": [
       "(53, 53)"
      ]
     },
     "execution_count": 8,
     "metadata": {},
     "output_type": "execute_result"
    }
   ],
   "source": [
    "len(x), len(y)"
   ]
  },
  {
   "cell_type": "markdown",
   "metadata": {},
   "source": [
    "## Make train/test data"
   ]
  },
  {
   "cell_type": "code",
   "execution_count": 9,
   "metadata": {},
   "outputs": [],
   "source": [
    "from sklearn.linear_model import LinearRegression\n",
    "from sklearn.model_selection import train_test_split\n",
    "\n",
    "\n",
    "x = np.array(x).reshape(-1, 1)\n",
    "y = np.array(y).reshape(-1, 1)\n",
    "\n",
    "x_train, x_test, y_train, y_test = train_test_split(x, y, test_size=0.1, random_state=0, shuffle=False)"
   ]
  },
  {
   "cell_type": "code",
   "execution_count": 10,
   "metadata": {},
   "outputs": [
    {
     "data": {
      "text/plain": [
       "array([[48],\n",
       "       [49],\n",
       "       [50],\n",
       "       [51],\n",
       "       [52],\n",
       "       [53]])"
      ]
     },
     "execution_count": 10,
     "metadata": {},
     "output_type": "execute_result"
    }
   ],
   "source": [
    "x_test"
   ]
  },
  {
   "cell_type": "markdown",
   "metadata": {},
   "source": [
    "# Build regression model\n",
    "\n",
    "1. Linear regression\n",
    "\n",
    "```\n",
    "Ordinary least squares Linear Regression.\n",
    "\n",
    "LinearRegression fits a linear model with coefficients w = (w1, …, wp) to minimize the residual sum of squares between the observed targets in the dataset, and the targets predicted by the linear approximation.\n",
    "```\n",
    "2. Linear regression with kernel trick\n",
    "\n",
    "https://scikit-learn.org/stable/modules/generated/sklearn.preprocessing.PolynomialFeatures.html\n",
    "\n",
    "```\n",
    "Generate polynomial and interaction features.\n",
    "\n",
    "Generate a new feature matrix consisting of all polynomial combinations of the features with degree less than or equal to the specified degree. For example, if an input sample is two dimensional and of the form [a, b], the degree-2 polynomial features are [1, a, b, a^2, ab, b^2].\n",
    "```\n",
    "3. Ridge regression\n",
    "https://scikit-learn.org/stable/modules/generated/sklearn.linear_model.Ridge.html\n",
    "\n",
    "```\n",
    "Linear least squares with l2 regularization.\n",
    "\n",
    "Minimizes the objective function:\n",
    "\n",
    "||y - Xw||^2_2 + alpha * ||w||^2_2\n",
    "This model solves a regression model where the loss function is the linear least squares function and regularization is given by the l2-norm. Also known as Ridge Regression or Tikhonov regularization. \n",
    "```\n",
    "\n",
    "## Evaluation metrics:\n",
    "\n",
    "- RMSE:\n",
    "- Return the coefficient of determination R^2 of the prediction.\n",
    "\n",
    "The coefficient R^2 is defined as (1 - u/v), where u is the residual sum of squares ((y_true - y_pred) ** 2).sum() and v is the total sum of squares ((y_true - y_true.mean()) ** 2).sum(). The best possible score is 1.0 and it can be negative (because the model can be arbitrarily worse). A constant model that always predicts the expected value of y, disregarding the input features, would get a R^2 score of 0.0."
   ]
  },
  {
   "cell_type": "code",
   "execution_count": 11,
   "metadata": {},
   "outputs": [],
   "source": [
    "from sklearn import metrics"
   ]
  },
  {
   "cell_type": "code",
   "execution_count": 12,
   "metadata": {},
   "outputs": [],
   "source": [
    "?metrics.mean_squared_error"
   ]
  },
  {
   "cell_type": "code",
   "execution_count": 13,
   "metadata": {},
   "outputs": [],
   "source": [
    "metrics.r2_score?"
   ]
  },
  {
   "cell_type": "code",
   "execution_count": null,
   "metadata": {},
   "outputs": [],
   "source": []
  },
  {
   "cell_type": "markdown",
   "metadata": {},
   "source": [
    "### 1. Linear regression"
   ]
  },
  {
   "cell_type": "code",
   "execution_count": 14,
   "metadata": {},
   "outputs": [],
   "source": [
    "def visualize_results(model):\n",
    "    y_pred = model.predict(x_test)\n",
    "    print(\"RMSE: \", sqrt(metrics.mean_squared_error(y_test, y_pred)))\n",
    "    print(\"R2 score: \", model.score(x_test, y_test))\n",
    "    #or\n",
    "    #print(\"R2 score: \", metrics.r2_score(y_test, y_pred))\n",
    "    plt.title(\"Predict the next numbers in a given sequence\")\n",
    "    plt.xlabel('time (date)')\n",
    "    plt.ylabel('#cases')\n",
    "    plt.scatter(x_train, y_train, color='blue')\n",
    "    plt.scatter(x_test, y_test, color='green')\n",
    "    plt.plot(x, model.predict(x), color='red')\n",
    "    "
   ]
  },
  {
   "cell_type": "code",
   "execution_count": 15,
   "metadata": {},
   "outputs": [
    {
     "data": {
      "text/plain": [
       "LinearRegression(copy_X=True, fit_intercept=True, n_jobs=None, normalize=False)"
      ]
     },
     "execution_count": 15,
     "metadata": {},
     "output_type": "execute_result"
    }
   ],
   "source": [
    "# call a model\n",
    "regsr=LinearRegression()\n",
    "#train on data\n",
    "regsr.fit(x_train, y_train)"
   ]
  },
  {
   "cell_type": "code",
   "execution_count": 16,
   "metadata": {},
   "outputs": [
    {
     "data": {
      "text/plain": [
       "array([[181548.72340426],\n",
       "       [186512.12765957],\n",
       "       [191475.53191489],\n",
       "       [196438.93617021],\n",
       "       [201402.34042553],\n",
       "       [206365.74468085]])"
      ]
     },
     "execution_count": 16,
     "metadata": {},
     "output_type": "execute_result"
    }
   ],
   "source": [
    "# predict on new data\n",
    "y_pred = regsr.predict(x_test)\n",
    "y_pred"
   ]
  },
  {
   "cell_type": "code",
   "execution_count": 17,
   "metadata": {},
   "outputs": [
    {
     "name": "stdout",
     "output_type": "stream",
     "text": [
      "RMSE:  50342.745846406644\n",
      "R2 score:  -28.990782773776303\n"
     ]
    },
    {
     "data": {
      "image/png": "[encoded data removed]",
      "text/plain": [
       "<Figure size 432x288 with 1 Axes>"
      ]
     },
     "metadata": {
      "needs_background": "light"
     },
     "output_type": "display_data"
    }
   ],
   "source": [
    "visualize_results(regsr)"
   ]
  },
  {
   "cell_type": "markdown",
   "metadata": {},
   "source": [
    "### 4. Fit using logistic function"
   ]
  },
  {
   "cell_type": "code",
   "execution_count": 18,
   "metadata": {},
   "outputs": [],
   "source": [
    "max_y = y.max() + 1\n",
    "# max_y = 1000000\n",
    "y_train_rescaled = y_train / max_y "
   ]
  },
  {
   "cell_type": "code",
   "execution_count": 19,
   "metadata": {},
   "outputs": [],
   "source": [
    "y_train_new = -np.log(1 / y_train_rescaled - 1)"
   ]
  },
  {
   "cell_type": "code",
   "execution_count": 20,
   "metadata": {
    "scrolled": true
   },
   "outputs": [
    {
     "data": {
      "text/plain": [
       "LinearRegression(copy_X=True, fit_intercept=True, n_jobs=None, normalize=False)"
      ]
     },
     "execution_count": 20,
     "metadata": {},
     "output_type": "execute_result"
    }
   ],
   "source": [
    "model = LinearRegression()  # ax+b \n",
    "model.fit(x_train, y_train_new)  # => we obtained a, b"
   ]
  },
  {
   "cell_type": "code",
   "execution_count": 21,
   "metadata": {},
   "outputs": [],
   "source": [
    "def predict(model, x_x):\n",
    "    # y_y = a * x_x + b\n",
    "    y_y = model.predict(x_x)\n",
    "    y_y_logit = 1 / (1 + np.exp(-y_y))\n",
    "    y_y_final = (y_y_logit * max_y).astype(np.int)\n",
    "    return y_y_final"
   ]
  },
  {
   "cell_type": "code",
   "execution_count": 22,
   "metadata": {},
   "outputs": [],
   "source": [
    "y_pred = predict(model, x_test)"
   ]
  },
  {
   "cell_type": "code",
   "execution_count": 23,
   "metadata": {},
   "outputs": [],
   "source": [
    "def visualize_results1(model):\n",
    "    y_pred = predict(model, x_test)\n",
    "    print(\"RMSE: \", sqrt(metrics.mean_squared_error(y_test, y_pred)))\n",
    "    print(\"R2 score: \", model.score(x_test, y_test))\n",
    "    #or\n",
    "    #print(\"R2 score: \", metrics.r2_score(y_test, y_pred))\n",
    "    plt.title(\"Predict the next numbers in a given sequence\")\n",
    "    plt.xlabel('time (date)')\n",
    "    plt.ylabel('#cases')\n",
    "    plt.scatter(x_train, y_train, color='blue')\n",
    "    plt.scatter(x_test, y_test, color='green')\n",
    "    y_y = predict(model, x)\n",
    "    plt.plot(x, y_y, color='red')\n",
    "    "
   ]
  },
  {
   "cell_type": "code",
   "execution_count": 24,
   "metadata": {},
   "outputs": [
    {
     "name": "stdout",
     "output_type": "stream",
     "text": [
      "RMSE:  10868.69078285574\n",
      "R2 score:  -706.1637136294069\n"
     ]
    },
    {
     "data": {
      "image/png": "[encoded data removed]",
      "text/plain": [
       "<Figure size 432x288 with 1 Axes>"
      ]
     },
     "metadata": {
      "needs_background": "light"
     },
     "output_type": "display_data"
    }
   ],
   "source": [
    "visualize_results1(model)"
   ]
  },
  {
   "cell_type": "code",
   "execution_count": 38,
   "metadata": {},
   "outputs": [
    {
     "name": "stdout",
     "output_type": "stream",
     "text": [
      "RMSE:  13874.579038659154\n",
      "R2 score:  -706.1748055666362\n"
     ]
    },
    {
     "data": {
      "image/png": "[encoded data removed]",
      "text/plain": [
       "<Figure size 432x288 with 1 Axes>"
      ]
     },
     "metadata": {
      "needs_background": "light"
     },
     "output_type": "display_data"
    }
   ],
   "source": [
    "from sklearn.preprocessing import PolynomialFeatures\n",
    "from sklearn.pipeline import make_pipeline\n",
    "\n",
    "degree = 3\n",
    "reg_poly = make_pipeline(PolynomialFeatures(degree),LinearRegression())\n",
    "reg_poly.fit(x_train, y_train_new)\n",
    "visualize_results1(reg_poly)"
   ]
  },
  {
   "cell_type": "markdown",
   "metadata": {},
   "source": [
    "### 2. Linear regression with kernel trick"
   ]
  },
  {
   "cell_type": "code",
   "execution_count": null,
   "metadata": {},
   "outputs": [],
   "source": [
    "from sklearn.preprocessing import PolynomialFeatures\n",
    "from sklearn.pipeline import make_pipeline\n",
    "\n",
    "degree = 3\n",
    "reg_poly = make_pipeline(PolynomialFeatures(degree),LinearRegression())\n",
    "reg_poly.fit(x_train, y_train)\n",
    "visualize_results(reg_poly)"
   ]
  },
  {
   "cell_type": "code",
   "execution_count": null,
   "metadata": {},
   "outputs": [],
   "source": [
    "degree = 5 #\n",
    "reg_poly = make_pipeline(PolynomialFeatures(degree),LinearRegression())\n",
    "reg_poly.fit(x_train, y_train)\n",
    "visualize_results(reg_poly)"
   ]
  },
  {
   "cell_type": "markdown",
   "metadata": {},
   "source": [
    "### 3. Ridge regression with kernel"
   ]
  },
  {
   "cell_type": "code",
   "execution_count": null,
   "metadata": {},
   "outputs": [],
   "source": [
    "from sklearn.linear_model import Ridge"
   ]
  },
  {
   "cell_type": "code",
   "execution_count": null,
   "metadata": {},
   "outputs": [],
   "source": [
    "degree=5\n",
    "\n",
    "ridge_poly = make_pipeline(PolynomialFeatures(degree), Ridge())\n",
    "ridge_poly.fit(x_train, y_train)\n",
    "visualize_results(ridge_poly)"
   ]
  },
  {
   "cell_type": "code",
   "execution_count": null,
   "metadata": {},
   "outputs": [],
   "source": [
    "pd.DataFrame(\n",
    "{'gt': y_test.reshape(-1),\n",
    " 'predicted': ridge_poly.predict(x_test).reshape(-1)\n",
    "} )"
   ]
  },
  {
   "cell_type": "code",
   "execution_count": null,
   "metadata": {
    "scrolled": true
   },
   "outputs": [],
   "source": [
    "ridge_poly.predict(x_test)"
   ]
  },
  {
   "cell_type": "markdown",
   "metadata": {},
   "source": [
    "### Other regression methods\n",
    "\n",
    "https://scikit-learn.org/stable/modules/classes.html#module-sklearn.linear_model"
   ]
  },
  {
   "cell_type": "code",
   "execution_count": null,
   "metadata": {},
   "outputs": [],
   "source": [
    "from sklearn.linear_model import LassoLars\n",
    "\n",
    "degree=5\n",
    "\n",
    "model = make_pipeline(PolynomialFeatures(degree), LassoLars(alpha=2))\n",
    "model.fit(x_train, y_train)\n",
    "visualize_results(model)"
   ]
  },
  {
   "cell_type": "code",
   "execution_count": null,
   "metadata": {},
   "outputs": [],
   "source": [
    "#Results\n",
    "pd.DataFrame(\n",
    "{'gt': y_test.reshape(-1),\n",
    " 'predicted': model.predict(x_test)\n",
    "} )"
   ]
  },
  {
   "cell_type": "markdown",
   "metadata": {},
   "source": [
    "### Be careful with the scale of data\n"
   ]
  },
  {
   "cell_type": "code",
   "execution_count": null,
   "metadata": {},
   "outputs": [],
   "source": [
    "#if we scale the input data by a log function\n",
    "log_y = np.log(y)\n",
    "x_train, x_test, y_train, y_test = train_test_split(x, log_y, test_size=0.1, random_state=0, shuffle=False)\n",
    "\n",
    "degree=3\n",
    "\n",
    "model = make_pipeline(PolynomialFeatures(degree), LinearRegression())\n",
    "model.fit(x_train, y_train)\n",
    "visualize_results(model)   #RMSE descreases"
   ]
  },
  {
   "cell_type": "code",
   "execution_count": null,
   "metadata": {},
   "outputs": [],
   "source": [
    "pd.DataFrame(\n",
    "    { 'gt': np.exp(y_test).reshape(-1),\n",
    "       'predicted': np.exp(model.predict(x_test)).reshape(-1)\n",
    "    }\n",
    ")\n"
   ]
  },
  {
   "cell_type": "code",
   "execution_count": null,
   "metadata": {},
   "outputs": [],
   "source": [
    "# The actual rmse\n",
    "sqrt(metrics.mean_squared_error(np.exp(y_test), np.exp(model.predict(x_test))))"
   ]
  },
  {
   "cell_type": "code",
   "execution_count": null,
   "metadata": {},
   "outputs": [],
   "source": []
  }
 ],
 "metadata": {
  "kernelspec": {
   "display_name": "Python 3",
   "language": "python",
   "name": "python3"
  },
  "language_info": {
   "codemirror_mode": {
    "name": "ipython",
    "version": 3
   },
   "file_extension": ".py",
   "mimetype": "text/x-python",
   "name": "python",
   "nbconvert_exporter": "python",
   "pygments_lexer": "ipython3",
   "version": "3.7.6"
  }
 },
 "nbformat": 4,
 "nbformat_minor": 2
}
